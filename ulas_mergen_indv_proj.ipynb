{
 "cells": [
  {
   "cell_type": "markdown",
   "metadata": {},
   "source": [
    "# CS 210 PROJECT"
   ]
  },
  {
   "cell_type": "markdown",
   "metadata": {},
   "source": [
    "# Information about data set"
   ]
  },
  {
   "cell_type": "code",
   "execution_count": 1,
   "metadata": {},
   "outputs": [
    {
     "data": {
      "text/html": [
       "<div>\n",
       "<style scoped>\n",
       "    .dataframe tbody tr th:only-of-type {\n",
       "        vertical-align: middle;\n",
       "    }\n",
       "\n",
       "    .dataframe tbody tr th {\n",
       "        vertical-align: top;\n",
       "    }\n",
       "\n",
       "    .dataframe thead th {\n",
       "        text-align: right;\n",
       "    }\n",
       "</style>\n",
       "<table border=\"1\" class=\"dataframe\">\n",
       "  <thead>\n",
       "    <tr style=\"text-align: right;\">\n",
       "      <th></th>\n",
       "      <th>vendor_id</th>\n",
       "      <th>passenger_count</th>\n",
       "      <th>pickup_longitude</th>\n",
       "      <th>pickup_latitude</th>\n",
       "      <th>dropoff_longitude</th>\n",
       "      <th>dropoff_latitude</th>\n",
       "      <th>trip_duration</th>\n",
       "    </tr>\n",
       "  </thead>\n",
       "  <tbody>\n",
       "    <tr>\n",
       "      <th>count</th>\n",
       "      <td>118185.000000</td>\n",
       "      <td>118185.000000</td>\n",
       "      <td>118185.000000</td>\n",
       "      <td>118185.000000</td>\n",
       "      <td>118185.000000</td>\n",
       "      <td>118185.000000</td>\n",
       "      <td>118185.000000</td>\n",
       "    </tr>\n",
       "    <tr>\n",
       "      <th>mean</th>\n",
       "      <td>1.534958</td>\n",
       "      <td>1.657148</td>\n",
       "      <td>-73.973971</td>\n",
       "      <td>40.751392</td>\n",
       "      <td>-73.973538</td>\n",
       "      <td>40.752212</td>\n",
       "      <td>927.186310</td>\n",
       "    </tr>\n",
       "    <tr>\n",
       "      <th>std</th>\n",
       "      <td>0.498779</td>\n",
       "      <td>1.313844</td>\n",
       "      <td>0.040456</td>\n",
       "      <td>0.027958</td>\n",
       "      <td>0.039192</td>\n",
       "      <td>0.032284</td>\n",
       "      <td>3118.710246</td>\n",
       "    </tr>\n",
       "    <tr>\n",
       "      <th>min</th>\n",
       "      <td>1.000000</td>\n",
       "      <td>0.000000</td>\n",
       "      <td>-79.487900</td>\n",
       "      <td>40.225803</td>\n",
       "      <td>-79.487900</td>\n",
       "      <td>40.225800</td>\n",
       "      <td>1.000000</td>\n",
       "    </tr>\n",
       "    <tr>\n",
       "      <th>25%</th>\n",
       "      <td>1.000000</td>\n",
       "      <td>1.000000</td>\n",
       "      <td>-73.991875</td>\n",
       "      <td>40.737835</td>\n",
       "      <td>-73.991394</td>\n",
       "      <td>40.736462</td>\n",
       "      <td>393.000000</td>\n",
       "    </tr>\n",
       "    <tr>\n",
       "      <th>50%</th>\n",
       "      <td>2.000000</td>\n",
       "      <td>1.000000</td>\n",
       "      <td>-73.981796</td>\n",
       "      <td>40.754501</td>\n",
       "      <td>-73.979759</td>\n",
       "      <td>40.754848</td>\n",
       "      <td>652.000000</td>\n",
       "    </tr>\n",
       "    <tr>\n",
       "      <th>75%</th>\n",
       "      <td>2.000000</td>\n",
       "      <td>2.000000</td>\n",
       "      <td>-73.967575</td>\n",
       "      <td>40.768471</td>\n",
       "      <td>-73.962990</td>\n",
       "      <td>40.770077</td>\n",
       "      <td>1048.000000</td>\n",
       "    </tr>\n",
       "    <tr>\n",
       "      <th>max</th>\n",
       "      <td>2.000000</td>\n",
       "      <td>6.000000</td>\n",
       "      <td>-73.425018</td>\n",
       "      <td>41.292198</td>\n",
       "      <td>-73.055977</td>\n",
       "      <td>41.292198</td>\n",
       "      <td>86366.000000</td>\n",
       "    </tr>\n",
       "  </tbody>\n",
       "</table>\n",
       "</div>"
      ],
      "text/plain": [
       "           vendor_id  passenger_count  pickup_longitude  pickup_latitude  \\\n",
       "count  118185.000000    118185.000000     118185.000000    118185.000000   \n",
       "mean        1.534958         1.657148        -73.973971        40.751392   \n",
       "std         0.498779         1.313844          0.040456         0.027958   \n",
       "min         1.000000         0.000000        -79.487900        40.225803   \n",
       "25%         1.000000         1.000000        -73.991875        40.737835   \n",
       "50%         2.000000         1.000000        -73.981796        40.754501   \n",
       "75%         2.000000         2.000000        -73.967575        40.768471   \n",
       "max         2.000000         6.000000        -73.425018        41.292198   \n",
       "\n",
       "       dropoff_longitude  dropoff_latitude  trip_duration  \n",
       "count      118185.000000     118185.000000  118185.000000  \n",
       "mean          -73.973538         40.752212     927.186310  \n",
       "std             0.039192          0.032284    3118.710246  \n",
       "min           -79.487900         40.225800       1.000000  \n",
       "25%           -73.991394         40.736462     393.000000  \n",
       "50%           -73.979759         40.754848     652.000000  \n",
       "75%           -73.962990         40.770077    1048.000000  \n",
       "max           -73.055977         41.292198   86366.000000  "
      ]
     },
     "execution_count": 1,
     "metadata": {},
     "output_type": "execute_result"
    }
   ],
   "source": [
    "import reverse_geocoder as rg\n",
    "import pandas as pd\n",
    "import numpy as np\n",
    "import matplotlib.pyplot as plt\n",
    "import seaborn as sns\n",
    "from geopy import distance\n",
    "from datetime import datetime\n",
    "from scipy import stats\n",
    "df=pd.read_csv('taxi-trips.csv')\n",
    "dfsize=len(df.index)\n",
    "df.describe()"
   ]
  },
  {
   "cell_type": "code",
   "execution_count": 2,
   "metadata": {},
   "outputs": [
    {
     "name": "stdout",
     "output_type": "stream",
     "text": [
      "Shape:  (118185, 11)\n"
     ]
    }
   ],
   "source": [
    "print(\"Shape: \",df.shape)"
   ]
  },
  {
   "cell_type": "code",
   "execution_count": 3,
   "metadata": {},
   "outputs": [
    {
     "name": "stdout",
     "output_type": "stream",
     "text": [
      "Descriptive Statistics\n",
      "Correlations between columns:                     vendor_id  passenger_count  pickup_longitude  \\\n",
      "vendor_id           1.000000         0.293623          0.011391   \n",
      "passenger_count     0.293623         1.000000         -0.004414   \n",
      "pickup_longitude    0.011391        -0.004414          1.000000   \n",
      "pickup_latitude     0.007838        -0.001269         -0.101032   \n",
      "dropoff_longitude   0.003093        -0.002280          0.384399   \n",
      "dropoff_latitude    0.006378        -0.003409          0.052744   \n",
      "trip_duration       0.034313         0.019177          0.064542   \n",
      "\n",
      "                   pickup_latitude  dropoff_longitude  dropoff_latitude  \\\n",
      "vendor_id                 0.007838           0.003093          0.006378   \n",
      "passenger_count          -0.001269          -0.002280         -0.003409   \n",
      "pickup_longitude         -0.101032           0.384399          0.052744   \n",
      "pickup_latitude           1.000000           0.060402          0.443818   \n",
      "dropoff_longitude         0.060402           1.000000          0.126132   \n",
      "dropoff_latitude          0.443818           0.126132          1.000000   \n",
      "trip_duration            -0.048825           0.040602         -0.043374   \n",
      "\n",
      "                   trip_duration  \n",
      "vendor_id               0.034313  \n",
      "passenger_count         0.019177  \n",
      "pickup_longitude        0.064542  \n",
      "pickup_latitude        -0.048825  \n",
      "dropoff_longitude       0.040602  \n",
      "dropoff_latitude       -0.043374  \n",
      "trip_duration           1.000000  \n",
      "\n",
      "\n",
      "Covariance matrix of column values                    vendor_id  passenger_count  pickup_longitude  \\\n",
      "vendor_id           0.248780         0.192416          0.000230   \n",
      "passenger_count     0.192416         1.726186         -0.000235   \n",
      "pickup_longitude    0.000230        -0.000235          0.001637   \n",
      "pickup_latitude     0.000109        -0.000047         -0.000114   \n",
      "dropoff_longitude   0.000060        -0.000117          0.000609   \n",
      "dropoff_latitude    0.000103        -0.000145          0.000069   \n",
      "trip_duration      53.375252        78.578702          8.143247   \n",
      "\n",
      "                   pickup_latitude  dropoff_longitude  dropoff_latitude  \\\n",
      "vendor_id                 0.000109           0.000060          0.000103   \n",
      "passenger_count          -0.000047          -0.000117         -0.000145   \n",
      "pickup_longitude         -0.000114           0.000609          0.000069   \n",
      "pickup_latitude           0.000782           0.000066          0.000401   \n",
      "dropoff_longitude         0.000066           0.001536          0.000160   \n",
      "dropoff_latitude          0.000401           0.000160          0.001042   \n",
      "trip_duration            -4.257202           4.962620         -4.367050   \n",
      "\n",
      "                   trip_duration  \n",
      "vendor_id           5.337525e+01  \n",
      "passenger_count     7.857870e+01  \n",
      "pickup_longitude    8.143247e+00  \n",
      "pickup_latitude    -4.257202e+00  \n",
      "dropoff_longitude   4.962620e+00  \n",
      "dropoff_latitude   -4.367050e+00  \n",
      "trip_duration       9.726354e+06  \n"
     ]
    }
   ],
   "source": [
    "print(\"Descriptive Statistics\")\n",
    "print(\"Correlations between columns: \", df.corr())\n",
    "print(\"\\n\")\n",
    "print(\"Covariance matrix of column values\", df.cov())"
   ]
  },
  {
   "cell_type": "code",
   "execution_count": 4,
   "metadata": {},
   "outputs": [
    {
     "name": "stdout",
     "output_type": "stream",
     "text": [
      "number of rows: 118185, number of columns: 11\n"
     ]
    }
   ],
   "source": [
    "n_rows, n_columns = df.shape  \n",
    "print(\"number of rows: {}, number of columns: {}\".format(n_rows, n_columns))"
   ]
  },
  {
   "cell_type": "code",
   "execution_count": 5,
   "metadata": {},
   "outputs": [
    {
     "data": {
      "text/plain": [
       "id                    0\n",
       "vendor_id             0\n",
       "pickup_datetime       0\n",
       "dropoff_datetime      0\n",
       "passenger_count       0\n",
       "pickup_longitude      0\n",
       "pickup_latitude       0\n",
       "dropoff_longitude     0\n",
       "dropoff_latitude      0\n",
       "store_and_fwd_flag    0\n",
       "trip_duration         0\n",
       "dtype: int64"
      ]
     },
     "execution_count": 5,
     "metadata": {},
     "output_type": "execute_result"
    }
   ],
   "source": [
    "df.isnull().sum() #which implies there is no null column\n"
   ]
  },
  {
   "cell_type": "code",
   "execution_count": 6,
   "metadata": {},
   "outputs": [
    {
     "data": {
      "text/html": [
       "<div>\n",
       "<style scoped>\n",
       "    .dataframe tbody tr th:only-of-type {\n",
       "        vertical-align: middle;\n",
       "    }\n",
       "\n",
       "    .dataframe tbody tr th {\n",
       "        vertical-align: top;\n",
       "    }\n",
       "\n",
       "    .dataframe thead th {\n",
       "        text-align: right;\n",
       "    }\n",
       "</style>\n",
       "<table border=\"1\" class=\"dataframe\">\n",
       "  <thead>\n",
       "    <tr style=\"text-align: right;\">\n",
       "      <th></th>\n",
       "      <th>id</th>\n",
       "      <th>vendor_id</th>\n",
       "      <th>pickup_datetime</th>\n",
       "      <th>dropoff_datetime</th>\n",
       "      <th>passenger_count</th>\n",
       "      <th>pickup_longitude</th>\n",
       "      <th>pickup_latitude</th>\n",
       "      <th>dropoff_longitude</th>\n",
       "      <th>dropoff_latitude</th>\n",
       "      <th>store_and_fwd_flag</th>\n",
       "      <th>trip_duration</th>\n",
       "    </tr>\n",
       "  </thead>\n",
       "  <tbody>\n",
       "    <tr>\n",
       "      <th>0</th>\n",
       "      <td>id2875421</td>\n",
       "      <td>2</td>\n",
       "      <td>2016-03-14 17:24:55</td>\n",
       "      <td>2016-03-14 17:32:30</td>\n",
       "      <td>1</td>\n",
       "      <td>-73.982155</td>\n",
       "      <td>40.767937</td>\n",
       "      <td>-73.964630</td>\n",
       "      <td>40.765602</td>\n",
       "      <td>N</td>\n",
       "      <td>455</td>\n",
       "    </tr>\n",
       "    <tr>\n",
       "      <th>1</th>\n",
       "      <td>id0012891</td>\n",
       "      <td>2</td>\n",
       "      <td>2016-03-10 21:45:01</td>\n",
       "      <td>2016-03-10 22:05:26</td>\n",
       "      <td>1</td>\n",
       "      <td>-73.981049</td>\n",
       "      <td>40.744339</td>\n",
       "      <td>-73.973000</td>\n",
       "      <td>40.789989</td>\n",
       "      <td>N</td>\n",
       "      <td>1225</td>\n",
       "    </tr>\n",
       "    <tr>\n",
       "      <th>2</th>\n",
       "      <td>id3361153</td>\n",
       "      <td>1</td>\n",
       "      <td>2016-03-11 07:11:23</td>\n",
       "      <td>2016-03-11 07:20:09</td>\n",
       "      <td>1</td>\n",
       "      <td>-73.994560</td>\n",
       "      <td>40.750526</td>\n",
       "      <td>-73.978500</td>\n",
       "      <td>40.756191</td>\n",
       "      <td>N</td>\n",
       "      <td>526</td>\n",
       "    </tr>\n",
       "    <tr>\n",
       "      <th>3</th>\n",
       "      <td>id2129090</td>\n",
       "      <td>1</td>\n",
       "      <td>2016-03-14 14:05:39</td>\n",
       "      <td>2016-03-14 14:28:05</td>\n",
       "      <td>1</td>\n",
       "      <td>-73.975090</td>\n",
       "      <td>40.758766</td>\n",
       "      <td>-73.953201</td>\n",
       "      <td>40.765068</td>\n",
       "      <td>N</td>\n",
       "      <td>1346</td>\n",
       "    </tr>\n",
       "    <tr>\n",
       "      <th>4</th>\n",
       "      <td>id0256505</td>\n",
       "      <td>1</td>\n",
       "      <td>2016-03-14 15:04:38</td>\n",
       "      <td>2016-03-14 15:16:13</td>\n",
       "      <td>1</td>\n",
       "      <td>-73.994484</td>\n",
       "      <td>40.745087</td>\n",
       "      <td>-73.998993</td>\n",
       "      <td>40.722710</td>\n",
       "      <td>N</td>\n",
       "      <td>695</td>\n",
       "    </tr>\n",
       "  </tbody>\n",
       "</table>\n",
       "</div>"
      ],
      "text/plain": [
       "          id  vendor_id      pickup_datetime     dropoff_datetime  \\\n",
       "0  id2875421          2  2016-03-14 17:24:55  2016-03-14 17:32:30   \n",
       "1  id0012891          2  2016-03-10 21:45:01  2016-03-10 22:05:26   \n",
       "2  id3361153          1  2016-03-11 07:11:23  2016-03-11 07:20:09   \n",
       "3  id2129090          1  2016-03-14 14:05:39  2016-03-14 14:28:05   \n",
       "4  id0256505          1  2016-03-14 15:04:38  2016-03-14 15:16:13   \n",
       "\n",
       "   passenger_count  pickup_longitude  pickup_latitude  dropoff_longitude  \\\n",
       "0                1        -73.982155        40.767937         -73.964630   \n",
       "1                1        -73.981049        40.744339         -73.973000   \n",
       "2                1        -73.994560        40.750526         -73.978500   \n",
       "3                1        -73.975090        40.758766         -73.953201   \n",
       "4                1        -73.994484        40.745087         -73.998993   \n",
       "\n",
       "   dropoff_latitude store_and_fwd_flag  trip_duration  \n",
       "0         40.765602                  N            455  \n",
       "1         40.789989                  N           1225  \n",
       "2         40.756191                  N            526  \n",
       "3         40.765068                  N           1346  \n",
       "4         40.722710                  N            695  "
      ]
     },
     "execution_count": 6,
     "metadata": {},
     "output_type": "execute_result"
    }
   ],
   "source": [
    "df.head() #first 5 row of all columns"
   ]
  },
  {
   "cell_type": "code",
   "execution_count": 7,
   "metadata": {},
   "outputs": [
    {
     "data": {
      "text/plain": [
       "id                     object\n",
       "vendor_id               int64\n",
       "pickup_datetime        object\n",
       "dropoff_datetime       object\n",
       "passenger_count         int64\n",
       "pickup_longitude      float64\n",
       "pickup_latitude       float64\n",
       "dropoff_longitude     float64\n",
       "dropoff_latitude      float64\n",
       "store_and_fwd_flag     object\n",
       "trip_duration           int64\n",
       "dtype: object"
      ]
     },
     "execution_count": 7,
     "metadata": {},
     "output_type": "execute_result"
    }
   ],
   "source": [
    "df.dtypes #here, there are datatypes of values of columns"
   ]
  },
  {
   "cell_type": "markdown",
   "metadata": {},
   "source": [
    "# CREATING TWO NEW COLUMNS: pickup_district and dropoff_district"
   ]
  },
  {
   "cell_type": "code",
   "execution_count": 8,
   "metadata": {
    "scrolled": true
   },
   "outputs": [
    {
     "name": "stdout",
     "output_type": "stream",
     "text": [
      "Loading formatted geocoded file...\n"
     ]
    }
   ],
   "source": [
    "p_u=[]\n",
    "d_o=[]\n",
    "p_long = df['pickup_longitude'].tolist()\n",
    "p_lat=df['pickup_latitude'].tolist()\n",
    "d_long=df['dropoff_longitude'].tolist()\n",
    "d_lat=df['dropoff_latitude'].tolist()\n",
    "pickup_cor = list(zip(df['pickup_latitude'].tolist(),df['pickup_longitude'].tolist()))\n",
    "dropoff_cor=list(zip(df['dropoff_latitude'].tolist(),df['dropoff_longitude'].tolist()))\n",
    "geo_pickup = rg.search(pickup_cor)\n",
    "geo_dropoff= rg.search(dropoff_cor)\n",
    "for i in range(dfsize):\n",
    "    p_u.append(geo_pickup[i]['name'])\n",
    "    d_o.append(geo_dropoff[i]['name'])\n",
    "df['pickup_district']=p_u\n",
    "df['dropoff_district']=d_o\n",
    "\n",
    "#df.to_csv(\"kpylol.csv\")\n",
    "\n",
    "    "
   ]
  },
  {
   "cell_type": "markdown",
   "metadata": {},
   "source": [
    "# Get most popular districts"
   ]
  },
  {
   "cell_type": "code",
   "execution_count": 9,
   "metadata": {},
   "outputs": [
    {
     "name": "stdout",
     "output_type": "stream",
     "text": [
      "Most popular 5 leave routes are(Descending order most popular to least):\n",
      "\n",
      "Manhattan           45329\n",
      "New York City       34625\n",
      "Long Island City    17787\n",
      "Weehawken           11334\n",
      "The Bronx            2777\n",
      "Name: pickup_district, dtype: int64\n",
      "\n",
      "Most popular 5 arrive routes are(Descending order most popular to least):\n",
      "\n",
      "Manhattan           44478\n",
      "New York City       31082\n",
      "Long Island City    19919\n",
      "Weehawken           10621\n",
      "Brooklyn             2059\n",
      "Name: dropoff_district, dtype: int64\n"
     ]
    }
   ],
   "source": [
    "print(\"Most popular 5 leave routes are(Descending order most popular to least):\\n\") \n",
    "print(df['pickup_district'].value_counts().head(5))\n",
    "print()\n",
    "print(\"Most popular 5 arrive routes are(Descending order most popular to least):\\n\")\n",
    "print(df['dropoff_district'].value_counts().head(5))\n",
    "\n"
   ]
  },
  {
   "cell_type": "markdown",
   "metadata": {},
   "source": [
    "# Adding Distance Column"
   ]
  },
  {
   "cell_type": "code",
   "execution_count": 10,
   "metadata": {},
   "outputs": [],
   "source": [
    "def dist(x, y, z, p):\n",
    "    return distance.distance((x,y),(z,p)).km\n",
    "#df['distance'] = np.vectorize(dist)(df['pickup_latitude'], df['pickup_longitude'],df['dropoff_latitude'],df['dropoff_longitude'])\n",
    "df['distance'] =df.apply(lambda df: dist(df['pickup_latitude'], df['pickup_longitude'],df['dropoff_latitude'],df['dropoff_longitude']), axis=1)\n"
   ]
  },
  {
   "cell_type": "markdown",
   "metadata": {},
   "source": [
    "# Adding Time of Day Column"
   ]
  },
  {
   "cell_type": "code",
   "execution_count": 11,
   "metadata": {},
   "outputs": [],
   "source": [
    "def time(x):\n",
    "    hourint=x[-8:-6]\n",
    "    hour=int(hourint)  \n",
    "    if hour>=7 and hour <=9:\n",
    "        return \"rush_hour_morning\"\n",
    "    if hour>9 and hour <=16:\n",
    "        return \"afternoon\"\n",
    "    if hour>16 and hour <=18:\n",
    "        return \"rush_hour_evening\"\n",
    "    if hour>18 and hour <=23:\n",
    "        return \"evening\"\n",
    "    else:\n",
    "        return \"late night\"\n",
    "        \n",
    "df['time_of_day'] = df.apply(lambda df: time(df['pickup_datetime']), axis=1)\n",
    "\n"
   ]
  },
  {
   "cell_type": "markdown",
   "metadata": {},
   "source": [
    "# How the average distance varies as time of the day change"
   ]
  },
  {
   "cell_type": "code",
   "execution_count": 12,
   "metadata": {},
   "outputs": [
    {
     "name": "stdout",
     "output_type": "stream",
     "text": [
      "X-axis symbolizes distance in km\n"
     ]
    },
    {
     "data": {
      "text/plain": [
       "<matplotlib.axes._subplots.AxesSubplot at 0x2b6f4bf8cc0>"
      ]
     },
     "execution_count": 12,
     "metadata": {},
     "output_type": "execute_result"
    },
    {
     "data": {
      "image/png": "[encoded data removed]",
      "text/plain": [
       "<Figure size 432x288 with 1 Axes>"
      ]
     },
     "metadata": {
      "needs_background": "light"
     },
     "output_type": "display_data"
    }
   ],
   "source": [
    "avg_time = df.groupby(by='time_of_day').mean()[\"distance\"]\n",
    "print(\"X-axis symbolizes distance in km\")\n",
    "avg_time.plot(kind=\"barh\")"
   ]
  },
  {
   "cell_type": "markdown",
   "metadata": {},
   "source": [
    "# How the trip duration varies as time of the day change"
   ]
  },
  {
   "cell_type": "code",
   "execution_count": 13,
   "metadata": {
    "scrolled": false
   },
   "outputs": [
    {
     "name": "stdout",
     "output_type": "stream",
     "text": [
      "X-axis symbolizes duration\n"
     ]
    },
    {
     "data": {
      "text/plain": [
       "<matplotlib.axes._subplots.AxesSubplot at 0x2b687d427f0>"
      ]
     },
     "execution_count": 13,
     "metadata": {},
     "output_type": "execute_result"
    },
    {
     "data": {
      "image/png": "[encoded data removed]",
      "text/plain": [
       "<Figure size 432x288 with 1 Axes>"
      ]
     },
     "metadata": {
      "needs_background": "light"
     },
     "output_type": "display_data"
    }
   ],
   "source": [
    "avg_time = df.groupby(by='time_of_day').mean()[\"trip_duration\"] #in the data trip duration is given in seconds i guess\n",
    "print(\"X-axis symbolizes duration\")\n",
    "avg_time.plot(kind=\"barh\")"
   ]
  },
  {
   "cell_type": "markdown",
   "metadata": {},
   "source": [
    "# Null Hypothesis"
   ]
  },
  {
   "cell_type": "markdown",
   "metadata": {},
   "source": [
    "# 1. Does passenger group size affect the distance?\n"
   ]
  },
  {
   "cell_type": "markdown",
   "metadata": {},
   "source": [
    "• Null hypothesis: passenger group size has no effect on the distance.\n",
    "• Alternative hypothesis: passenger group size has effect on the distance."
   ]
  },
  {
   "cell_type": "code",
   "execution_count": 14,
   "metadata": {},
   "outputs": [
    {
     "name": "stdout",
     "output_type": "stream",
     "text": [
      "Mean distance where passenger count is exactly 1 i.e passenger is alone: 3.36 km\n",
      "Mean distance where passenger count is more than 1 i.e there are passengers in the cab: 3.49 km\n",
      "Lets see graph:\n"
     ]
    },
    {
     "name": "stderr",
     "output_type": "stream",
     "text": [
      "C:\\Users\\ulasm\\Anaconda3\\lib\\site-packages\\scipy\\stats\\stats.py:1713: FutureWarning: Using a non-tuple sequence for multidimensional indexing is deprecated; use `arr[tuple(seq)]` instead of `arr[seq]`. In the future this will be interpreted as an array index, `arr[np.array(seq)]`, which will result either in an error or a different result.\n",
      "  return np.add.reduce(sorted[indexer] * weights, axis=axis) / sumval\n"
     ]
    },
    {
     "data": {
      "image/png": "[encoded data removed]",
      "text/plain": [
       "<Figure size 432x288 with 1 Axes>"
      ]
     },
     "metadata": {
      "needs_background": "light"
     },
     "output_type": "display_data"
    },
    {
     "name": "stdout",
     "output_type": "stream",
     "text": [
      "Ttest_indResult(statistic=-4.90336211049223, pvalue=9.445117080445828e-07)\n",
      "\n",
      "it can be seen that p value is 9.445117080445828e-07 which is smaller than 0.05 we cannot say that null hypthesis is true since there will be difference between distances depending on passenger is alone or there is passengers so we reject the null hypothesis, we accept the alternative hypothesis.\n"
     ]
    }
   ],
   "source": [
    "#print(df.head())\n",
    "print(\"Mean distance where passenger count is exactly 1 i.e passenger is alone:\",round(df['distance'][df['passenger_count']==1].mean(),2),\"km\")\n",
    "print(\"Mean distance where passenger count is more than 1 i.e there are passengers in the cab:\",round(df['distance'][df['passenger_count']>1].mean(),2), \"km\")\n",
    "#These are means lets now try to find p value\n",
    "count1_distance = df['distance'][df['passenger_count']==1].values\n",
    "countmore_distance =df['distance'][df['passenger_count']>1].values\n",
    "print(\"Lets see graph:\")\n",
    "ax = sns.kdeplot(df['distance'][df['passenger_count']==1].rename(\"One passenger\"), shade=True)\n",
    "sns.kdeplot(df['distance'][df['passenger_count']>1].rename(\"More than one passenger\"), ax=ax, shade=True)\n",
    "\n",
    "plt.show()\n",
    "p_value = stats.ttest_ind(a=count1_distance, b=countmore_distance, equal_var=False)\n",
    "print(p_value)\n",
    "result=\"it can be seen that p value is 9.445117080445828e-07 which is smaller than 0.05 we cannot say that null hypthesis is true since there will be difference between distances depending on passenger is alone or there is passengers so we reject the null hypothesis, we accept the alternative hypothesis.\"\n",
    "print()\n",
    "print(result)\n"
   ]
  },
  {
   "cell_type": "markdown",
   "metadata": {},
   "source": [
    "# 2. Do trip distances increase in weekends?\n"
   ]
  },
  {
   "cell_type": "markdown",
   "metadata": {},
   "source": [
    "• Null hypothesis: The day of the week has no effect on the distance.\n",
    "• Alternative hypothesis: The day of the week has effect on the distance."
   ]
  },
  {
   "cell_type": "code",
   "execution_count": 15,
   "metadata": {},
   "outputs": [
    {
     "name": "stdout",
     "output_type": "stream",
     "text": [
      "Mean distance when day is weekend: 3.5 km\n",
      "Mean distance when day is weekday: 3.36 km\n",
      "Lets see graph:\n",
      "Ttest_indResult(statistic=5.604877366928609, pvalue=2.092414433069292e-08)\n",
      "\n",
      "it can be seen that p value is 2.092414433069292e-08 which is smaller than 0.05 we cannot say that null hypthesis is true since there will be difference between distances depending on passenger is alone or there is passengers so we reject the null hypothesis, we accept the alternative hypothesis.\n"
     ]
    },
    {
     "data": {
      "image/png": "[encoded data removed]",
      "text/plain": [
       "<Figure size 432x288 with 1 Axes>"
      ]
     },
     "metadata": {
      "needs_background": "light"
     },
     "output_type": "display_data"
    }
   ],
   "source": [
    "#print(df.head())\n",
    "import datetime\n",
    "import calendar\n",
    "def timefunc(xs):\n",
    "    x=str(xs)\n",
    "    tags = { '1' : 'Monday' ,'2' : 'Tuesday' ,'3' : 'Wednesday' ,'4' : 'Thursday' ,'5' : 'Friday' ,'6' : 'Saturday' ,'7' : 'Sunday' }\n",
    "    year=int(x[0:4])\n",
    "    month=int(x[5:7])\n",
    "    day=int(x[8:10])\n",
    "    dayname=tags[str(datetime.datetime(year,month,day).isoweekday())]\n",
    "    return dayname\n",
    "\n",
    "df['date_time'] = df.apply(lambda df: timefunc(df['pickup_datetime']), axis=1)\n",
    "weekend=(df['distance'][(df['date_time']==\"Saturday\") | (df['date_time']==\"Sunday\") ].values)\n",
    "weekday=(df['distance'][(df['date_time']!=\"Saturday\") & (df['date_time']!=\"Sunday\") ].values)\n",
    "\n",
    "print(\"Mean distance when day is weekend:\",round(df['distance'][(df['date_time']==\"Saturday\") | (df['date_time']==\"Sunday\") ].mean(),2), \"km\")\n",
    "print(\"Mean distance when day is weekday:\",round(df['distance'][(df['date_time']!=\"Saturday\") & (df['date_time']!=\"Sunday\") ].mean(),2), \"km\")\n",
    "\n",
    "\n",
    "plt.show()\n",
    "print(\"Lets see graph:\")\n",
    "ax = sns.kdeplot(df['distance'][(df['date_time']==\"Saturday\") | (df['date_time']==\"Sunday\")].rename(\"Weekend\"), shade=True)\n",
    "sns.kdeplot(df['distance'][(df['date_time']!=\"Saturday\") & (df['date_time']!=\"Sunday\")].rename(\"Weekday\"), ax=ax, shade=True)\n",
    "\n",
    "p_value = stats.ttest_ind(a=weekend, b=weekday, equal_var=False)\n",
    "print(p_value)\n",
    "result2=\"it can be seen that p value is 2.092414433069292e-08 which is smaller than 0.05 we cannot say that null hypthesis is true since there will be difference between distances depending on passenger is alone or there is passengers so we reject the null hypothesis, we accept the alternative hypothesis.\"\n",
    "print()\n",
    "print(result2)\n"
   ]
  },
  {
   "cell_type": "markdown",
   "metadata": {},
   "source": [
    "# Save updated data frame to new excel"
   ]
  },
  {
   "cell_type": "code",
   "execution_count": 16,
   "metadata": {},
   "outputs": [],
   "source": [
    "df.to_csv(\"updatedTaxi-Trips.csv\")"
   ]
  }
 ],
 "metadata": {
  "kernelspec": {
   "display_name": "Python 3",
   "language": "python",
   "name": "python3"
  },
  "language_info": {
   "codemirror_mode": {
    "name": "ipython",
    "version": 3
   },
   "file_extension": ".py",
   "mimetype": "text/x-python",
   "name": "python",
   "nbconvert_exporter": "python",
   "pygments_lexer": "ipython3",
   "version": "3.7.1"
  }
 },
 "nbformat": 4,
 "nbformat_minor": 2
}
